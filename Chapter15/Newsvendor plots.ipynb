{
 "cells": [
  {
   "cell_type": "code",
   "execution_count": null,
   "metadata": {},
   "outputs": [],
   "source": [
    "# Install matplotlib and scipy for this\n",
    "%matplotlib inline\n",
    "import matplotlib\n",
    "import matplotlib.pyplot as plt\n",
    "from scipy.stats import norm, poisson\n",
    "import numpy as np"
   ]
  },
  {
   "cell_type": "code",
   "execution_count": null,
   "metadata": {},
   "outputs": [],
   "source": [
    "def calc_n_plot_critical_ratio(p, c, r, mean, std):\n",
    "    cu = p - c\n",
    "    co = c - r\n",
    "    rho = cu / (cu + co)\n",
    "    print(f\"Cost of underage is {cu}\")\n",
    "    print(f\"Cost of overage is {co}\")\n",
    "    print(f\"Critical ratio is {np.round(rho, 2)}\")\n",
    "    \n",
    "    m = mean\n",
    "    s = std\n",
    "    qty = norm.ppf(rho, \n",
    "                  loc=m, \n",
    "                  scale=s)\n",
    "    print(f\"Optimal order qty is {qty}\")\n",
    "    x = np.linspace(norm.ppf(0.01,\n",
    "                             loc=m,\n",
    "                             scale=s\n",
    "                             ),\n",
    "                     norm.ppf(0.99,\n",
    "                              loc=m,\n",
    "                              scale=s\n",
    "                             ), \n",
    "                     10000)\n",
    "    yp = norm.pdf(x, loc=m, scale=s)\n",
    "    yc = norm.cdf(x, loc=m, scale=s)\n",
    "    lp = \"Normal pdf\"\n",
    "    lc = \"Normal cdf\"\n",
    "    \n",
    "    fig, ax = plt.subplots(1, 1)\n",
    "    fig.set_figheight(8)\n",
    "    fig.set_figwidth(15)\n",
    "    ax.set_xlim(x[0], x[-1])\n",
    "    ax.set_ylim(0, 1.1)\n",
    "    ax.plot(x, yp,\n",
    "       'b--', lw=3, alpha=0.6, label=lp)\n",
    "    ax.plot(x, yc,\n",
    "       'b-', lw=3, alpha=0.6, label=lc)\n",
    "    ax.plot([qty, qty], \n",
    "            [0, rho], \n",
    "            \"k\", lw=0.8)\n",
    "    ax.plot([0, qty], \n",
    "            [rho, rho], \n",
    "            \"k\", lw=0.8)\n",
    "    ax.fill_between(x, 0, yp, where=x <= qty,\n",
    "                 facecolor='cornflowerblue', interpolate=True)\n",
    "    ax.legend(loc='best', frameon=False)\n",
    "    matplotlib.rc('axes', titlesize=22)\n",
    "    plt.rcParams.update({'font.size': 22})\n",
    "    plt.show()    "
   ]
  },
  {
   "cell_type": "code",
   "execution_count": null,
   "metadata": {},
   "outputs": [],
   "source": [
    "p = 2000\n",
    "c = 400\n",
    "r = 0\n",
    "calc_n_plot_critical_ratio(p, c, r, mean=20, std=5)"
   ]
  },
  {
   "cell_type": "code",
   "execution_count": null,
   "metadata": {},
   "outputs": [],
   "source": []
  },
  {
   "cell_type": "code",
   "execution_count": null,
   "metadata": {},
   "outputs": [],
   "source": []
  },
  {
   "cell_type": "code",
   "execution_count": null,
   "metadata": {},
   "outputs": [],
   "source": []
  }
 ],
 "metadata": {
  "kernelspec": {
   "display_name": "rlenv2",
   "language": "python",
   "name": "rlenv2"
  },
  "language_info": {
   "codemirror_mode": {
    "name": "ipython",
    "version": 3
   },
   "file_extension": ".py",
   "mimetype": "text/x-python",
   "name": "python",
   "nbconvert_exporter": "python",
   "pygments_lexer": "ipython3",
   "version": "3.7.4"
  }
 },
 "nbformat": 4,
 "nbformat_minor": 2
}
